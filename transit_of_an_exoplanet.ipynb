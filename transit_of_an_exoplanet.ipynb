{
 "cells": [
  {
   "cell_type": "code",
   "execution_count": 2,
   "metadata": {},
   "outputs": [],
   "source": [
    "from astropy.io import fits\n",
    "import matplotlib.pyplot as plt\n",
    "import numpy as np"
   ]
  },
  {
   "cell_type": "code",
   "execution_count": 3,
   "metadata": {},
   "outputs": [],
   "source": [
    "files = []\n",
    "i = 187\n",
    "j = 0\n",
    "while  i < 267 :\n",
    "    files.append(fits.open(\"C:/Users/dell/Desktop/Data/TrES-3b/lco_data-20240926-20 (2)/lco_data-20240926-20/elp1m006-fa07-20230424-0\" + str(i) + \"-e91.fits.fz\"))\n",
    "    i = i+1\n",
    "    j = j+1"
   ]
  },
  {
   "cell_type": "code",
   "execution_count": 4,
   "metadata": {},
   "outputs": [
    {
     "name": "stdout",
     "output_type": "stream",
     "text": [
      "Filename: C:/Users/dell/Desktop/Data/TrES-3b/lco_data-20240926-20 (2)/lco_data-20240926-20/elp1m006-fa07-20230424-0187-e91.fits.fz\n",
      "No.    Name      Ver    Type      Cards   Dimensions   Format\n",
      "  0  PRIMARY       1 PrimaryHDU       4   ()      \n",
      "  1  SCI           1 CompImageHDU    262   (4096, 4096)   float32   \n",
      "  2  CAT           1 BinTableHDU    121   880R x 38C   [D, D, D, D, K, K, D, D, D, D, D, D, D, D, D, D, D, D, D, D, D, D, D, D, D, D, D, D, D, D, D, D, D, D, D, K, D, D]   \n",
      "  3  BPM           1 CompImageHDU      8   (4096, 4096)   uint8   \n",
      "  4  ERR           1 CompImageHDU      8   (4096, 4096)   float32   \n"
     ]
    }
   ],
   "source": [
    "files[0].info()"
   ]
  },
  {
   "cell_type": "code",
   "execution_count": 5,
   "metadata": {},
   "outputs": [
    {
     "data": {
      "text/plain": [
       "SIMPLE  =                    T / conforms to FITS standard                      \n",
       "BITPIX  =                    8 / array data type                                \n",
       "NAXIS   =                    0 / number of array dimensions                     \n",
       "EXTEND  =                    T                                                  "
      ]
     },
     "execution_count": 5,
     "metadata": {},
     "output_type": "execute_result"
    }
   ],
   "source": [
    "fits1_image = files[0][0].data\n",
    "files[0][0].header\n"
   ]
  },
  {
   "cell_type": "code",
   "execution_count": 6,
   "metadata": {},
   "outputs": [
    {
     "data": {
      "text/plain": [
       "SIMPLE  =                    T / conforms to FITS standard                      \n",
       "BITPIX  =                  -32 / array data type                                \n",
       "NAXIS   =                    2 / number of array dimensions                     \n",
       "NAXIS1  =                 4096                                                  \n",
       "NAXIS2  =                 4096                                                  \n",
       "DATADICV= 'LCOGT-DIC.FITS-0.10.0' / Version number of the data dictionary       \n",
       "HDRVER  = 'LCOGT-HDR-1.3.0'    / Version number of the headers                  \n",
       "ORIGIN  = 'LCOGT   '           / Organization responsible for the data          \n",
       "SITEID  = 'elp     '           / ID code of the Observatory site                \n",
       "SITE    = 'LCOGT node at McDonald Observatory' / Site of the Observatory        \n",
       "ENCID   = 'domb    '           / ID code of the Enclosure                       \n",
       "ENCLOSUR= 'Dome-13 '           / Building containing Telescope                  \n",
       "TELID   = '1m0a    '           / ID code of the Telescope                       \n",
       "TELESCOP= '1m0-06  '           / The Name of the Telescope                      \n",
       "LATITUDE=           30.6798330 / [deg North] Telescope Latitude                 \n",
       "LONGITUD=         -104.0151730 / [deg East] Telescope Longitude                 \n",
       "HEIGHT  =             2030.000 / [m] Altitude of Telescope above sea level      \n",
       "OBSGEO-X=         -1330030.117 / [m] Cartesian X co-ord of telescope (WGS84)    \n",
       "OBSGEO-Y=         -5328447.712 / [m] Cartesian Y co-ord of telescope (WGS84)    \n",
       "OBSGEO-Z=          3236452.490 / [m] Cartesian Z co-ord of telescope (WGS84)    \n",
       "OBSTYPE = 'EXPOSE  '           / Observation type                               \n",
       "FRAMENUM=                  187 / Running frame number                           \n",
       "MOLTYPE = 'EXPOSE  '           / Molecule type                                  \n",
       "MOLNUM  =                  126 / Molecule number                                \n",
       "MOLFRNUM=                   11 / Exposure number within molecule                \n",
       "FRMTOTAL=                   90 / Total number of exposures within molecule      \n",
       "ORIGNAME= 'elp1m006-fa07-20230424-0187-e00.fits' / Fname written by ICS         \n",
       "OBSTELEM= 'N/A     '           / Link to observation telemetry                  \n",
       "TIMESYS = 'UTC     '           / Time system used                               \n",
       "DATE    = '2023-04-25T07:09:33.140832' / [UTC] Date this FITS file was written  \n",
       "DATE-OBS= '2023-04-25T07:07:29.310' / [UTC] Start date and time of the observati\n",
       "DAY-OBS = '20230424'           / [UTC] Date at start of local observing night   \n",
       "UTSTART = '07:07:29.310'       / [UTC] The start time of the observation        \n",
       "UTSTOP  = '07:08:14.434'       / [UTC] The finish time of the observation       \n",
       "MJD-OBS =        60059.2967170 / [UTC days] Start date/time (Modified Julian Dat\n",
       "EXPTIME =           45.1240000 / [s] Exposure length                            \n",
       "REQTIME =           45.0000000 / [s] Requested exposure length                  \n",
       "FILTER1 = 'air     '           / The first filter wheel filter type             \n",
       "FILTERI1= 'Air     '           / The first filter wheel filter id               \n",
       "FILTER2 = 'air     '           / The second filter wheel filter type            \n",
       "FILTERI2= 'Air     '           / The second filter wheel filter id              \n",
       "FILTER3 = 'V       '           / The third filter wheel filter type             \n",
       "FILTERI3= 'JNSN-VX-178'        / The third filter wheel filter id               \n",
       "FILTER  = 'V       '           / Filter used                                    \n",
       "FWID    = 'fws1m-??'           / Filter Wheel ID                                \n",
       "INSTRUME= 'fa07    '           / Instrument used                                \n",
       "INSSTATE= 'OKAY    '           / The instrument status                          \n",
       "ICSVER  = '1.16.0@0x3ca23c0'   / Version number of the ICS software             \n",
       "CONFMODE= 'full_frame'         / Camera mode configuration                      \n",
       "CONFNAME= 'N/A     '           / The instrument configuration used              \n",
       "DETECTOR= 'UNKNOWN '           / Detector type                                  \n",
       "DETECTID= 'DB-68   '           / Detector serial number                         \n",
       "GAIN    =                  1.0 / [electrons/count] Pixel gain                   \n",
       "RDNOISE =            7.5000000 / [electrons/pixel] Read noise                   \n",
       "DARKCURR=            0.0000000 / [electrons/pixel/s @ 200K] Dark current        \n",
       "SATURATE=             129200.0 / [ADU] Saturation level                         \n",
       "MAXLIN  =             129200.0 / [ADU] Non-linearity level                      \n",
       "RDSPEED =           60.0000000 / [kpix/s] Readout speed used                    \n",
       "DETSIZE = '[1:4096,1:4096]'    / [pixel] Detector size                          \n",
       "AMPNAME = 'default '           / Amplifier name                                 \n",
       "CCDSEC  = 'UNKNOWN '           / [pixel] Region of CCD read                     \n",
       "CCDSUM  = '1 1     '           / CCD on-chip summing/binning                    \n",
       "BIASSEC = 'UNKNOWN '           / [binned pixel] Section of bias/overscan data   \n",
       "DATASEC = '[1:4096,1:4096]'    / [binned pixel] Data section                    \n",
       "TRIMSEC = '[1:4096,1:4096]'    / [binned pixel] Section of useful data          \n",
       "ROI     = 'UNKNOWN '           / [binned pixel] Region of interest or MULTIPLE  \n",
       "DETSEC  = '[1:4096,1:4096]'    / [binned pixel] Section of useful data          \n",
       "CCDXPIXE=            0.0000150 / [m] Size of pixels, in X                       \n",
       "CCDYPIXE=            0.0000150 / [m] Size of pixels, in Y                       \n",
       "PIXSCALE=            0.3890000 / [arcsec/pixel] Nominal pixel scale on sky      \n",
       "CCDSTEMP=          -90.0000000 / [deg C] CCD required temperature               \n",
       "CCDATEMP=          -90.0030289 / [deg C] CCD actual temperature                 \n",
       "CCDSESIG= 'N/A     '           / [mK] CCD temp control servo error signal       \n",
       "TELMODE = 'AUTOMATIC'          / Telescope mode                                 \n",
       "TAGID   = 'UNSPECIFIED'        / Time Allocation Group ID                       \n",
       "USERID  = 'wim_cuppens'        / User ID                                        \n",
       "PROPID  = 'FTPEPO2014A-004'    / Proposal ID                                    \n",
       "GROUPID = 'Tres 3b '           / Group ID                                       \n",
       "OBSID   = 'UNSPECIFIED'        / Observation ID                                 \n",
       "OBSNOTE = 'UNSPECIFIED'        / Observation Note                               \n",
       "SCHEDNAM= 'POND    '           / Name of scheduler in control                   \n",
       "TRACKNUM= '1689678 '           / Request DB tracking number                     \n",
       "REQNUM  = '3209478 '           / Request DB request number                      \n",
       "MOLUID  = '655881065'          / Molecule unique ID                             \n",
       "BLKTYPE = 'POND    '           / Group type                                     \n",
       "BLKUID  = '507151838'          / Group unique ID                                \n",
       "BLKSDATE= '2023-04-25T06:55:00' / [UTC] Block start date                        \n",
       "BLKEDATE= '2023-04-25T08:47:48' / [UTC] Block end date                          \n",
       "BLKNOMEX=         6768.0000000 / [s] Block nominal exec time                    \n",
       "BLKMNPH =            1.0000000 / [(0-1)] Maximum lunar phase required           \n",
       "BLKMNDST=           30.0000000 / [deg] Minimum lunar distance required          \n",
       "BLKSEECO= 'N/A     '           / Minimum seeing required                        \n",
       "BLKTRNCO= 'N/A     '           / Minimum transparency required                  \n",
       "BLKAIRCO= '1.6     '           / Maximum airmass required                       \n",
       "SCHEDSEE=            3.3841685 / [arcsec] Estimated seeing when group scheduled \n",
       "SCHEDTRN= 'N/A     '           / [(0-1)] Estimated transparency when group sched\n",
       "TRIGGER = 'N/A     '           / External trigger ID                            \n",
       "MOSAIC  = 'UNSPECIFIED'        / Mosaic Pattern Description                     \n",
       "DITHER  = 'UNSPECIFIED'        / Dither Pattern Description                     \n",
       "OBRECIPE= 'N/A     '           / Observing Recipes required/used                \n",
       "PCRECIPE= 'N/A     '           / Processing Recipes required/used               \n",
       "PPRECIPE= 'N/A     '           / Post-Processing Recipes required/used          \n",
       "RA      = '17:52:07.5388'      / [HH:MM:SS.sss] RA where telescope is pointing  \n",
       "DEC     = '+37:32:35.839'      / [sDD:MM:SS.ss] Dec where telescope is pointing \n",
       "RADESYS = 'ICRS    '           / [[FK5,ICRS]] Fundamental coord. system of the o\n",
       "LST     = '14:23:24.12'        / [HH:MM:SS.ss] LST at start of current observati\n",
       "CAT-RA  = '17:52:06.970'       / [HH:MM:SS.sss] Catalog RA of the object        \n",
       "CAT-DEC = '+37:32:47.05'       / [sDD:MM:SS.ss] Catalog Dec of the object       \n",
       "CAT-EPOC=         2000.0000000 / [Year] Catalog epoch of the coordinates        \n",
       "OFST-RA = '17:52:06.970'       / [HH:MM:SS.sss] Catalog RA plus pointing offsets\n",
       "OFST-DEC= '+37:32:47.05'       / [sDD:MM:SS.ss] Catalog Dec plus pointing offset\n",
       "TPT-RA  = '17:52:46.918'       / [HH:MM:SS.sss] Telescope demand RA             \n",
       "TPT-DEC = '+38:50:51.54'       / [sDD:MM:SS.ss] Telescope demand Dec            \n",
       "OBJECT  = 'Tres-3b '           / Object name                                    \n",
       "SRCTYPE = 'EXTRASOLAR'         / Source type                                    \n",
       "PM-RA   =           -0.0309373 / [sec/year] Proper motion in RA of the object   \n",
       "PM-DEC  =            0.0348090 / [arcsec/year] Proper motion in Dec of the objec\n",
       "PARALLAX=            0.0042939 / [arcsec] Parallax of the object                \n",
       "RADVEL  =            0.0000000 / [km/s] Radial velocity of the object           \n",
       "RATRACK =            0.0000000 / [arcsec/s] Non-sidereal tracking in RA         \n",
       "DECTRACK=            0.0000000 / [arcsec/s] Non-sidereal tracking in Dec        \n",
       "TRACFRAC=            1.0000000 / Fraction of ephemeris rate applied             \n",
       "TELSTATE= 'OKAY    '           / Current telescope status                       \n",
       "ENGSTATE= 'UNKNOWN '           / Engineering override state                     \n",
       "TCSSTATE= 'OKAY    '           / TCS state                                      \n",
       "TCSVER  = '1.16    '           / Version number of the TCS software             \n",
       "TPNTMODL= '20230425063304'     / Version number of the pointing model           \n",
       "UT1-UTC =           -0.0336200 / [s] UT1-UTC                                    \n",
       "POLARMOX=            0.0143000 / [arcsec] Polar motion X                        \n",
       "POLARMOY=            0.4603000 / [arcsec] Polar motion Y                        \n",
       "EOPSRC  = 'IERS BULL. A 2023/04/20' / Source of the EOP Values                  \n",
       "ROLLERDR=            0.0000000 / [rad] Driven roller encoder angle              \n",
       "ROLLERND=            0.0000000 / [rad] Non-driven roller encoder angle          \n",
       "AZDMD   =           66.2014480 / [deg] Azimuth axis demand                      \n",
       "AZIMUTH =           66.2014459 / [deg] Azimuth axis position                    \n",
       "AZSTAT  = 'OKAY    '           / Azimuth axis state                             \n",
       "ALTDMD  =           46.6492125 / [deg] Altitude axis demand                     \n",
       "ALTITUDE=           46.6492244 / [deg] Altitude axis position                   \n",
       "ALTSTAT = 'OKAY    '           / Altitude axis state                            \n",
       "AIRMASS =            1.3719400 / Effective mean airmass                         \n",
       "AMSTART =            1.3740752 / Airmass at start of observation                \n",
       "AMEND   =            1.3698047 / Airmass at end of observation                  \n",
       "ENC1STAT= 'OPEN    '           / Enclosure shutter 1 state                      \n",
       "ENC2STAT= 'OPEN    '           / Enclosure shutter 2 state                      \n",
       "ENCAZ   =           66.0983606 / [deg] Enclosure azimuth                        \n",
       "ENCWLIGT= 'OFF     '           / Enclosure white lights state                   \n",
       "ENCRLIGT= 'OFF     '           / Enclosure red lights state                     \n",
       "FOLDSTAT= 'N/A     '           / Fold mirror state                              \n",
       "FOLDPORT= '1       '           / Fold mirror port                               \n",
       "FOLDPOSN= 'N/A, N/A'           / [{mm,deg}] Fold mirror position (r, theta)     \n",
       "M1COVER = 'STOWED  '           / M1 mirror cover state                          \n",
       "M1HRTMN = 'UNKNOWN '           / M1 Hartmann screen state                       \n",
       "FOCDMD  =            0.0000000 / [mm] Demanded focus position in focal plane    \n",
       "FOCPOSN =           -0.0032093 / [mm] Actual focus position in focal plane      \n",
       "FOCTELZP=           -0.3905690 / [mm] Telescope default focus                   \n",
       "FOCINOFF=            0.0000000 / [mm] Instrument focus offset                   \n",
       "FOCTOFF =            0.0098475 / [mm] Thermal correction value                  \n",
       "FOCZOFF =            0.0409666 / [mm] Zenith compression correction             \n",
       "FOCAFOFF=            1.0500000 / [mm] Autofocus offset in focal plane           \n",
       "FOCOBOFF=            0.0000000 / [mm] Observer focus offset/defocus in focal pla\n",
       "FOCFLOFF=           -1.0000000 / [mm] Filter focus offset in focal plane        \n",
       "FOCSTAT = 'HALTED  '           / Focus state                                    \n",
       "M2PITCH =          903.0000000 / [arcsec] M2 tilt about vertex in pitch directio\n",
       "M2ROLL  =          488.0000000 / [arcsec] M2 tilt about vertex in roll direction\n",
       "CTYPE1  = 'RA---TAN'           / Type of WCS Projection                         \n",
       "CTYPE2  = 'DEC--TAN'           / Type of WCS Projection                         \n",
       "CRPIX1  =               2048.5 / [pixel] Coordinate of reference point (axis 1) \n",
       "CRPIX2  =               2048.5 / [pixel] Coordinate of reference point (axis 2) \n",
       "CRVAL1  =        268.031411556 / [deg] RA at the reference pixel                \n",
       "CRVAL2  =        37.5432888507 / [deg] Dec at the reference pixel               \n",
       "CUNIT1  = 'deg     '           / Units of RA                                    \n",
       "CUNIT2  = 'deg     '           / Units of Dec                                   \n",
       "CD1_1   =   -0.000108242874304 / WCS CD transformation matrix                   \n",
       "CD1_2   =    4.41130286987E-08 / WCS CD transformation matrix                   \n",
       "CD2_1   =    4.41130286987E-08 / WCS CD transformation matrix                   \n",
       "CD2_2   =    0.000108242874304 / WCS CD transformation matrix                   \n",
       "WMSSTATE= 'OKAY    '           / WMS system state                               \n",
       "WMSHUMID=           31.1000004 / [%] Current percentage humidity                \n",
       "WMSTEMP =           15.3000002 / [deg C] External temperature                   \n",
       "WMSPRES =          795.2681160 / [mbar] Atmospheric pressure                    \n",
       "WINDSPEE=           14.0400003 / [km/h] Windspeed                               \n",
       "WINDDIR =          225.0000000 / [deg E of N] Wind direction                    \n",
       "WMSRAIN = 'CLEAR   '           / Rain alert                                     \n",
       "WMSMOIST=          256.1666565 / [mV] Moisture level                            \n",
       "WMSDEWPT=           -1.7000000 / [deg C] Dewpoint                               \n",
       "WMSCLOUD=          -35.6000000 / [deg C] Boltwood sky temperature               \n",
       "WMSSKYBR=           20.9300003 / [mag/arcsec^2] Measured sky brightness         \n",
       "SKYMAG  =           22.0000000 / [mag/arcsec^2] Computed (expected) sky brightne\n",
       "TUBETEMP=            9.7990473 / [deg C] Temperature of the telescope tube      \n",
       "M1TEMP  = 'UNKNOWN '           / [deg C] Primary mirror temperature             \n",
       "FOCTEMP =           13.4849997 / [deg C] Focus temperature                      \n",
       "ISSTEMP = 'UNKNOWN '           / [deg C] ISS temperature                        \n",
       "REFPRES =          794.8681651 / [mbar] Pressure used in refraction calculation \n",
       "REFTEMP =           14.6999998 / [deg C] Temperature used in refraction calculat\n",
       "REFHUMID=           36.4000015 / [%] Humidity used in refraction calculation    \n",
       "AGSTATE = 'GUIDING_CLOSED_LOOP' / Autoguider software state                     \n",
       "AGCAM   = 'ef06    '           / Camera used for autoguiding                    \n",
       "AGLCKFRC=               100.00 / [%] Fraction of time AG locked                 \n",
       "AGMODE  = 'MAYBE   '           / Autoguider mode                                \n",
       "AGRA    =          268.0227768 / [deg] RA of guide star                         \n",
       "AGDEC   =           38.2152984 / [deg] Dec of guide star                        \n",
       "AGGMAG  = 'UNKNOWN '           / [mag] Autoguider guide star mag                \n",
       "AGFWHM  =            3.5395951 / [arcsec] Autoguider FWHM                       \n",
       "AGMIRDMD= 'UNKNOWN '           / [mm] Autoguider mirror demand                  \n",
       "AGMIRPOS= 'N/A, N/A'           / Autoguider mirror position                     \n",
       "AGMIRST = 'N/A     '           / Autoguider mirror state                        \n",
       "AGFOCDMD=           -9.3000000 / [mm] Autoguider focus demand                   \n",
       "AGFOCUS =           -9.2700000 / [mm] Autoguider focus position                 \n",
       "AGFOCOFF=            0.0000000 / [mm] Autoguider relative focus offset          \n",
       "AGFOCST = 'In position'        / Autoguider focus state                         \n",
       "AGFILTER= 'air     '           / Autoguider filter                              \n",
       "AGFILTID= 'air     '           / Autoguider filter id                           \n",
       "AGFILST = 'Enabled '           / Autoguider filter state                        \n",
       "MOONSTAT= 'DOWN    '           / [{UP, DOWN}] Moon position at obs start        \n",
       "MOONFRAC=            0.2560714 / [(0 - 1)] Lunar Illuminated Fraction           \n",
       "MOONDIST=          114.6590532 / [deg] Lunar distance from target               \n",
       "MOONALT =           -8.1819015 / [deg] Lunar altitude                           \n",
       "SUNDIST =          107.3083062 / [deg] Solar distance from target               \n",
       "SUNALT  =          -46.0776364 / [deg] Solar altitude                           \n",
       "CLKMODE =                    1 / Sinistro Readout Mode                          \n",
       "AMPMASK =                   15 / Sinistro Active Amplifier Mask                 \n",
       "CRSTLK12=              0.00057 / [Crosstalk coefficient] Signal from Q1 onto Q2 \n",
       "CRSTLK13=             -0.00000 / [Crosstalk coefficient] Signal from Q1 onto Q3 \n",
       "CRSTLK14=             -0.00003 / [Crosstalk coefficient] Signal from Q1 onto Q4 \n",
       "CRSTLK23=             -0.00000 / [Crosstalk coefficient] Signal from Q2 onto Q3 \n",
       "CRSTLK21=              0.00069 / [Crosstalk coefficient] Signal from Q2 onto Q1 \n",
       "CRSTLK24=             -0.00003 / [Crosstalk coefficient] Signal from Q2 onto Q4 \n",
       "CRSTLK32=             -0.00001 / [Crosstalk coefficient] Signal from Q3 onto Q2 \n",
       "CRSTLK31=             -0.00001 / [Crosstalk coefficient] Signal from Q3 onto Q1 \n",
       "CRSTLK34=              0.00058 / [Crosstalk coefficient] Signal from Q3 onto Q4 \n",
       "CRSTLK42=             -0.00002 / [Crosstalk coefficient] Signal from Q4 onto Q2 \n",
       "CRSTLK43=              0.00065 / [Crosstalk coefficient] Signal from Q4 onto Q3 \n",
       "CRSTLK41=             -0.00001 / [Crosstalk coefficient] Signal from Q4 onto Q1 \n",
       "L1IDMASK= 'elp1m006-fa07-20190812-bpm-full_frame.fits.fz' / Id. of mask file use\n",
       "SATFRAC = 7.45215668685056E-05 / Fraction of Pixels that are Saturated          \n",
       "L1STATOV= '1       '           / Status flag for overscan correction            \n",
       "OVERSCN1= '3684.32 '           / Overscan value that was subtracted             \n",
       "OVERSCN2= '3765.42 '           / Overscan value that was subtracted             \n",
       "OVERSCN3= '5637.65 '           / Overscan value that was subtracted             \n",
       "OVERSCN4= '5866.13 '           / Overscan value that was subtracted             \n",
       "BIASLVL =   0.3828435149138242 / Bias level that was removed after overscan     \n",
       "L1IDBIAS= 'elp1m006-fa07-20230424-bias-bin1x1.fits.fz' / ID of bias frame       \n",
       "L1STATBI=                    1 / Status flag for bias frame correction          \n",
       "L1IDDARK= 'elp1m006-fa07-20230424-dark-bin1x1.fits.fz' / ID of dark frame       \n",
       "L1STATDA=                    1 / Status flag for dark frame correction          \n",
       "L1IDFLAT= 'elp1m006-fa07-20230423-skyflat-bin1x1-V.fits.fz' / ID of flat frame  \n",
       "L1STATFL=                    1 / Status flag for flat field correction          \n",
       "L1MEAN  =     82.1112322979388 / [counts] Sigma clipped mean of frame background\n",
       "L1MEDIAN=    82.00930786132812 / [counts] Median of frame background            \n",
       "L1SIGMA =    1.367399654388428 / [counts] Robust std dev of frame background    \n",
       "L1FWHM  =    2.155210448937568 / [arcsec] Frame FWHM in arcsec                  \n",
       "L1FWTM  =    1.767715226848861 / Ratio of FWHM to Full-Width Tenth Max          \n",
       "L1ELLIP =   0.1629531070170337 / Mean image ellipticity (1-B/A)                 \n",
       "L1ELLIPA=    55.66896119580009 / [deg] PA of mean image ellipticity             \n",
       "WCSERR  =                    0 / Error status of WCS fit. 0 for no error        \n",
       "PNTOFST =    13.09296538851238 / [arcsec] offset of requested and solved center \n",
       "RLEVEL  =                   91 / Reduction level                                \n",
       "PIPEVER = '1.10.0  '           / Pipeline version                               \n",
       "L1PUBDAT= '2023-04-25T07:07:29.310' / [UTC] Date the frame becomes public       \n",
       "EXTNAME = 'SCI     '           / extension name                                 \n",
       "CHECKSUM= '8mbA9lb58lbA8lb5'   / checksum for the current HDU                   \n",
       "DATASUM = '0       '           / checksum of the data records                   "
      ]
     },
     "execution_count": 6,
     "metadata": {},
     "output_type": "execute_result"
    }
   ],
   "source": [
    "files[0][1].header"
   ]
  },
  {
   "cell_type": "code",
   "execution_count": 7,
   "metadata": {},
   "outputs": [
    {
     "data": {
      "image/png": "[encoded data removed]",
      "text/plain": [
       "<Figure size 640x480 with 1 Axes>"
      ]
     },
     "metadata": {},
     "output_type": "display_data"
    }
   ],
   "source": [
    "fits1_image = files[0][1].data\n",
    "plt.imshow(fits1_image, cmap='gray')\n",
    "plt.show()"
   ]
  },
  {
   "cell_type": "code",
   "execution_count": 8,
   "metadata": {},
   "outputs": [],
   "source": [
    "files[0][2].header\n",
    "fits1_table = files[0][2].data"
   ]
  },
  {
   "cell_type": "code",
   "execution_count": 9,
   "metadata": {},
   "outputs": [
    {
     "name": "stdout",
     "output_type": "stream",
     "text": [
      "ColDefs(\n",
      "    name = 'x'; format = 'D'; unit = 'pix'\n",
      "    name = 'y'; format = 'D'; unit = 'pix'\n",
      "    name = 'xwin'; format = 'D'; unit = 'pix'\n",
      "    name = 'ywin'; format = 'D'; unit = 'pix'\n",
      "    name = 'xpeak'; format = 'K'; unit = 'pix'\n",
      "    name = 'ypeak'; format = 'K'; unit = 'pix'\n",
      "    name = 'flux'; format = 'D'; unit = 'count'\n",
      "    name = 'fluxerr'; format = 'D'; unit = 'count'\n",
      "    name = 'peak'; format = 'D'; unit = 'count'\n",
      "    name = 'fluxaper1'; format = 'D'; unit = 'count'\n",
      "    name = 'fluxerr1'; format = 'D'; unit = 'count'\n",
      "    name = 'fluxaper2'; format = 'D'; unit = 'count'\n",
      "    name = 'fluxerr2'; format = 'D'; unit = 'count'\n",
      "    name = 'fluxaper3'; format = 'D'; unit = 'count'\n",
      "    name = 'fluxerr3'; format = 'D'; unit = 'count'\n",
      "    name = 'fluxaper4'; format = 'D'; unit = 'count'\n",
      "    name = 'fluxerr4'; format = 'D'; unit = 'count'\n",
      "    name = 'fluxaper5'; format = 'D'; unit = 'count'\n",
      "    name = 'fluxerr5'; format = 'D'; unit = 'count'\n",
      "    name = 'fluxaper6'; format = 'D'; unit = 'count'\n",
      "    name = 'fluxerr6'; format = 'D'; unit = 'count'\n",
      "    name = 'background'; format = 'D'; unit = 'count'\n",
      "    name = 'fwhm'; format = 'D'; unit = 'pix'\n",
      "    name = 'fwtm'; format = 'D'; unit = 'pix'\n",
      "    name = 'a'; format = 'D'; unit = 'pix'\n",
      "    name = 'b'; format = 'D'; unit = 'pix'\n",
      "    name = 'theta'; format = 'D'; unit = 'deg'\n",
      "    name = 'kronrad'; format = 'D'; unit = 'pix'\n",
      "    name = 'ellipticity'; format = 'D'\n",
      "    name = 'fluxrad25'; format = 'D'; unit = 'pix'\n",
      "    name = 'fluxrad50'; format = 'D'; unit = 'pix'\n",
      "    name = 'fluxrad75'; format = 'D'; unit = 'pix'\n",
      "    name = 'x2'; format = 'D'; unit = 'pix2'\n",
      "    name = 'y2'; format = 'D'; unit = 'pix2'\n",
      "    name = 'xy'; format = 'D'; unit = 'pix2'\n",
      "    name = 'flag'; format = 'K'\n",
      "    name = 'ra'; format = 'D'; unit = 'deg'\n",
      "    name = 'dec'; format = 'D'; unit = 'deg'\n",
      ")\n"
     ]
    }
   ],
   "source": [
    "print(files[0][2].columns)"
   ]
  },
  {
   "cell_type": "code",
   "execution_count": 10,
   "metadata": {},
   "outputs": [
    {
     "data": {
      "text/html": [
       "<div><i>Table length=880</i>\n",
       "<table id=\"table2869009228880\" class=\"table-striped table-bordered table-condensed\">\n",
       "<thead><tr><th>x</th><th>y</th><th>xwin</th><th>ywin</th><th>xpeak</th><th>ypeak</th><th>flux</th><th>fluxerr</th><th>peak</th><th>fluxaper1</th><th>fluxerr1</th><th>fluxaper2</th><th>fluxerr2</th><th>fluxaper3</th><th>fluxerr3</th><th>fluxaper4</th><th>fluxerr4</th><th>fluxaper5</th><th>fluxerr5</th><th>fluxaper6</th><th>fluxerr6</th><th>background</th><th>fwhm</th><th>fwtm</th><th>a</th><th>b</th><th>theta</th><th>kronrad</th><th>ellipticity</th><th>fluxrad25</th><th>fluxrad50</th><th>fluxrad75</th><th>x2</th><th>y2</th><th>xy</th><th>flag</th><th>ra</th><th>dec</th></tr></thead>\n",
       "<thead><tr><th>float64</th><th>float64</th><th>float64</th><th>float64</th><th>int64</th><th>int64</th><th>float64</th><th>float64</th><th>float64</th><th>float64</th><th>float64</th><th>float64</th><th>float64</th><th>float64</th><th>float64</th><th>float64</th><th>float64</th><th>float64</th><th>float64</th><th>float64</th><th>float64</th><th>float64</th><th>float64</th><th>float64</th><th>float64</th><th>float64</th><th>float64</th><th>float64</th><th>float64</th><th>float64</th><th>float64</th><th>float64</th><th>float64</th><th>float64</th><th>float64</th><th>int64</th><th>float64</th><th>float64</th></tr></thead>\n",
       "<tr><td>1134.110366359961</td><td>948.7808473906415</td><td>1134.110366359961</td><td>948.7808473906415</td><td>1134</td><td>949</td><td>3228214.3096313477</td><td>2219.244912301012</td><td>104082.1953125</td><td>480010.0859375002</td><td>1189.660166024315</td><td>1486941.3427343753</td><td>2048.0479381100618</td><td>2316134.044453126</td><td>2489.8890165088187</td><td>2783898.8803515634</td><td>2686.995595023516</td><td>3030529.5325341797</td><td>2781.5186574466175</td><td>3161643.088483887</td><td>2830.3765625534797</td><td>92.48079874153989</td><td>nan</td><td>nan</td><td>3.355386257171631</td><td>3.0042903423309326</td><td>61.13692763813575</td><td>1.1034117710308498</td><td>0.10463651214231562</td><td>1.7230335714946106</td><td>2.7325958534749035</td><td>4.084761904722321</td><td>9.546053209925844</td><td>10.738324677663968</td><td>0.9439466409519923</td><td>17</td><td>268.1559803381671</td><td>37.424146569919806</td></tr>\n",
       "<tr><td>530.9940541691283</td><td>2407.9968580251225</td><td>530.9940541691283</td><td>2407.9968580251225</td><td>531</td><td>2408</td><td>2793897.525680542</td><td>2646.0970017637146</td><td>62005.58203125</td><td>222279.24338867195</td><td>858.4902213288092</td><td>653135.3766174318</td><td>1514.3063338209172</td><td>1108599.275367432</td><td>1972.5298992468663</td><td>1820930.573927002</td><td>2502.9962450587736</td><td>2666272.6888446053</td><td>3055.414293514118</td><td>3518307.480980224</td><td>3512.13357246506</td><td>125.44181732192204</td><td>nan</td><td>nan</td><td>0.7211282253265381</td><td>0.7114648222923279</td><td>-35.4471962262217</td><td>3.6666961246155054</td><td>0.01340039495726919</td><td>2.6474620266241446</td><td>4.3267693519592285</td><td>4.3267693519592285</td><td>0.5153696520203239</td><td>0.5108384736775446</td><td>-0.0065405620284068045</td><td>17</td><td>268.2387030209758</td><td>37.58195363524186</td></tr>\n",
       "<tr><td>3222.5457957976096</td><td>898.0882844919804</td><td>3222.527329415436</td><td>898.0429321334788</td><td>3222</td><td>897</td><td>2669445.026611328</td><td>1962.059554834233</td><td>75961.6640625</td><td>354783.04375000007</td><td>1005.952022961334</td><td>1146500.9249218751</td><td>1758.084886829096</td><td>1828578.4319921876</td><td>2167.6407542785714</td><td>2247590.7148242192</td><td>2370.1482104320107</td><td>2469391.074101563</td><td>2467.5206132109806</td><td>2590568.07790039</td><td>2519.2268362331847</td><td>87.12521596553768</td><td>6.192474333195423</td><td>11.448701690838314</td><td>3.4465982913970947</td><td>3.0675160884857178</td><td>76.14105690490206</td><td>1.125735793914131</td><td>0.10998734719319847</td><td>1.8168162438090527</td><td>2.8897284477862972</td><td>4.304266900534656</td><td>9.551337943325109</td><td>11.737356796983875</td><td>0.5742779703413134</td><td>0</td><td>267.87133878962936</td><td>37.41870905575009</td></tr>\n",
       "<tr><td>3631.5033238408414</td><td>2557.9862636776124</td><td>3631.492579087372</td><td>2557.954907526351</td><td>3632</td><td>2558</td><td>2358840.0780029297</td><td>1808.9736618393633</td><td>75246.3359375</td><td>354296.0360937501</td><td>985.2357259972104</td><td>1089906.7002343752</td><td>1689.5283778644784</td><td>1684444.3561718748</td><td>2051.649536424898</td><td>2027033.045673828</td><td>2221.7454141447975</td><td>2208890.1259765625</td><td>2305.2023820273334</td><td>2308144.340092772</td><td>2349.861752535206</td><td>86.24350491366881</td><td>5.823361836623667</td><td>11.195992060677181</td><td>3.233527183532715</td><td>3.0667901039123535</td><td>70.56992431592194</td><td>1.1198634829322838</td><td>0.0515650774391192</td><td>1.694706064196267</td><td>2.736339721891223</td><td>4.106073922852434</td><td>9.521449329059806</td><td>10.339450516019667</td><td>0.3295524638676284</td><td>0</td><td>267.81517494959814</td><td>37.59830967200156</td></tr>\n",
       "<tr><td>129.95706504218282</td><td>52.45419110187473</td><td>129.92341012018383</td><td>52.42710963880736</td><td>130</td><td>53</td><td>2123647.831756592</td><td>1609.7510365261978</td><td>58824.40234375</td><td>285960.79296875006</td><td>837.1740922778548</td><td>907781.8964062502</td><td>1468.54955446054</td><td>1458437.9642578126</td><td>1832.4751262913674</td><td>1796504.963828125</td><td>2012.9118698665397</td><td>1973324.5734814454</td><td>2099.1803297633182</td><td>2067456.6381567388</td><td>2144.0429531941754</td><td>92.31845859551944</td><td>7.152765381166167</td><td>11.959034367106609</td><td>3.42307448387146</td><td>2.887819528579712</td><td>60.83911089975569</td><td>1.1421727420848284</td><td>0.15636672757595993</td><td>1.8286900828827182</td><td>2.8948786165265807</td><td>4.278702929082413</td><td>9.141511142005925</td><td>10.915428770261599</td><td>1.437330558891091</td><td>0</td><td>268.29245434013444</td><td>37.326860776540016</td></tr>\n",
       "<tr><td>569.3061886823797</td><td>2678.6956027150222</td><td>569.2809767316272</td><td>2678.6844159613106</td><td>569</td><td>2679</td><td>2106065.322631836</td><td>1692.9452756541964</td><td>77496.75</td><td>343080.4685937501</td><td>960.1417698867447</td><td>1053415.9428906252</td><td>1638.6079198991595</td><td>1578106.1105078124</td><td>1964.718586699346</td><td>1865075.620722656</td><td>2113.3487526141494</td><td>2006306.938833008</td><td>2181.5629371642235</td><td>2081420.7827685545</td><td>2217.71650281388</td><td>92.69464271481078</td><td>5.121186823751876</td><td>9.75978631375374</td><td>3.1150026321411133</td><td>2.9065403938293457</td><td>48.89221528662211</td><td>1.1103151827136384</td><td>0.06692201032539091</td><td>1.6125986430269177</td><td>2.584597690764861</td><td>3.874107229198287</td><td>8.990598503075319</td><td>9.160619664998535</td><td>0.6218488413326781</td><td>0</td><td>268.23356469387824</td><td>37.61126533653218</td></tr>\n",
       "<tr><td>421.2864980247307</td><td>3655.668197441031</td><td>421.24660385887154</td><td>3655.6541910352407</td><td>421</td><td>3656</td><td>1936782.815246582</td><td>1601.572227943017</td><td>72799.03125</td><td>328177.0406250001</td><td>938.4036066972998</td><td>976102.501484375</td><td>1563.375184496671</td><td>1457241.4248242187</td><td>1873.1004661963127</td><td>1717917.2064550787</td><td>2012.0200265616534</td><td>1845427.3691503906</td><td>2075.8563759128347</td><td>1914488.2137573243</td><td>2110.364897057016</td><td>88.0313847529557</td><td>5.187383444461368</td><td>9.570374045573448</td><td>3.076812982559204</td><td>2.8953938484191895</td><td>37.94930625506164</td><td>1.1118129013065317</td><td>0.05896332834279561</td><td>1.6009694205007088</td><td>2.553109586063247</td><td>3.8362354709610766</td><td>9.057029590535961</td><td>8.79305422572952</td><td>0.5254111595604343</td><td>0</td><td>268.25416064241233</td><td>37.71697150276957</td></tr>\n",
       "<tr><td>1509.4907749439608</td><td>2321.385977645804</td><td>1509.4726731000624</td><td>2321.3583940184185</td><td>1509</td><td>2321</td><td>1879414.0514526367</td><td>1574.2381018312713</td><td>68687.2890625</td><td>314548.33562500024</td><td>912.0923279402697</td><td>922388.7732031251</td><td>1517.8734560541436</td><td>1398555.9109179685</td><td>1831.285445652051</td><td>1656051.5341308592</td><td>1972.3403264893445</td><td>1785248.8010302735</td><td>2038.911313256463</td><td>1854983.339121093</td><td>2074.69448326945</td><td>87.75558255366998</td><td>5.880577734585899</td><td>10.298674634227963</td><td>3.1234357357025146</td><td>2.8901877403259277</td><td>54.35604560374132</td><td>1.1199213608327543</td><td>0.07467673905066763</td><td>1.6331365702481384</td><td>2.5964736821830114</td><td>3.8955626459931896</td><td>8.82952153357789</td><td>9.279514702547942</td><td>0.6642622763803274</td><td>0</td><td>268.10503941242905</td><td>37.57278016999281</td></tr>\n",
       "<tr><td>1437.4916555260854</td><td>3611.702233315789</td><td>1437.4717076894747</td><td>3611.684626533952</td><td>1437</td><td>3612</td><td>1615740.0372924805</td><td>1490.5119458692066</td><td>62466.44921875</td><td>278170.1640625001</td><td>858.1343551929967</td><td>829766.0537109374</td><td>1451.168229971869</td><td>1221915.4319531254</td><td>1728.5367176537918</td><td>1435602.6180859376</td><td>1856.4415272561357</td><td>1541773.225664063</td><td>1916.5135915094447</td><td>1598829.6214245604</td><td>1949.0142675255895</td><td>85.79844843674024</td><td>4.817716771577665</td><td>9.625617482106243</td><td>3.0548770427703857</td><td>2.8577933311462402</td><td>38.978216196916115</td><td>1.1180887228784513</td><td>0.06451444980103538</td><td>1.5644926548493674</td><td>2.519820595355262</td><td>3.8055418652930326</td><td>8.871200689119604</td><td>8.628056422897004</td><td>0.5698210843112861</td><td>0</td><td>268.1151010014683</td><td>37.71243733154489</td></tr>\n",
       "<tr><td>...</td><td>...</td><td>...</td><td>...</td><td>...</td><td>...</td><td>...</td><td>...</td><td>...</td><td>...</td><td>...</td><td>...</td><td>...</td><td>...</td><td>...</td><td>...</td><td>...</td><td>...</td><td>...</td><td>...</td><td>...</td><td>...</td><td>...</td><td>...</td><td>...</td><td>...</td><td>...</td><td>...</td><td>...</td><td>...</td><td>...</td><td>...</td><td>...</td><td>...</td><td>...</td><td>...</td><td>...</td><td>...</td></tr>\n",
       "<tr><td>2147.989341102518</td><td>1360.4416796269547</td><td>2148.093952865206</td><td>1360.4124022164876</td><td>2148</td><td>1360</td><td>2249.1736351549625</td><td>131.66252086888773</td><td>123.00519561767578</td><td>450.7988459777833</td><td>40.11430523246598</td><td>1214.677472305298</td><td>72.48861308840914</td><td>1852.824050238133</td><td>100.56500387116422</td><td>2173.6664040911196</td><td>125.39602417908311</td><td>2134.840195012092</td><td>148.67363350105376</td><td>2233.9920419633386</td><td>173.63276080840194</td><td>83.5995052918519</td><td>3.16660834000919</td><td>nan</td><td>1.0500518083572388</td><td>0.6583465933799744</td><td>63.73926386285646</td><td>2.8206580651869695</td><td>0.3730341797040191</td><td>1.480196122284976</td><td>2.4200522299567093</td><td>3.4404793397587468</td><td>0.5644259028073573</td><td>0.9716030344072144</td><td>0.26552775208722035</td><td>0</td><td>268.0178049471223</td><td>37.46881509105956</td></tr>\n",
       "<tr><td>2432.6598344037243</td><td>2968.112447222799</td><td>2432.687306998264</td><td>2968.2686524925552</td><td>2433</td><td>2969</td><td>2242.2356119304895</td><td>135.0018009772086</td><td>101.186279296875</td><td>408.9527224731448</td><td>39.61136203333876</td><td>1185.253967971802</td><td>73.8910625380438</td><td>1828.587350449562</td><td>102.70862344190678</td><td>2117.3677439951894</td><td>128.28885568520218</td><td>2227.0567098504303</td><td>153.20401358547394</td><td>2388.5548848959793</td><td>179.2386671539065</td><td>81.74340491640625</td><td>3.2504311394991556</td><td>nan</td><td>0.9383831024169922</td><td>0.6903240084648132</td><td>22.006792666152922</td><td>2.9434745622488685</td><td>0.26434735803879406</td><td>1.5138154621451316</td><td>2.460317679041145</td><td>3.501589344961967</td><td>0.8238339709928537</td><td>0.533276026590801</td><td>0.1403608637094298</td><td>0</td><td>267.9789485794732</td><td>37.64283557589066</td></tr>\n",
       "<tr><td>2102.2220891903435</td><td>2838.5605884484507</td><td>2102.2677131463706</td><td>2838.813619981178</td><td>2102</td><td>2838</td><td>2213.6830653846264</td><td>131.78631207208338</td><td>90.69351959228516</td><td>389.60831054687515</td><td>38.74703967396857</td><td>1173.8413958740239</td><td>72.36097168210445</td><td>1805.0902850627904</td><td>100.65859877078728</td><td>2085.7687092065808</td><td>125.29079628174065</td><td>2256.5673521554468</td><td>150.27630177599818</td><td>2352.7413822126387</td><td>175.20937034704494</td><td>80.55704718111708</td><td>3.7651264442875836</td><td>nan</td><td>0.9080203175544739</td><td>0.7797163724899292</td><td>25.234043388605606</td><td>2.8336522396612716</td><td>0.1413007424878987</td><td>1.5699797710501016</td><td>2.4357511163125865</td><td>3.5387488566580965</td><td>0.7851450593593028</td><td>0.6473135271639281</td><td>0.0835066981747905</td><td>0</td><td>268.0241131963812</td><td>37.62880936123535</td></tr>\n",
       "<tr><td>1636.2850777260924</td><td>3206.665440647545</td><td>1636.4354029202898</td><td>3206.751297558446</td><td>1636</td><td>3206</td><td>2146.722426146269</td><td>129.6789962149853</td><td>101.9117202758789</td><td>429.9721429443361</td><td>39.62569428518582</td><td>1188.6116412544252</td><td>72.92101253989341</td><td>1769.0987714910511</td><td>100.64882981981695</td><td>2014.125460311175</td><td>125.4865752648479</td><td>2188.3265171563626</td><td>150.6660299989602</td><td>2373.9017693832975</td><td>176.37033179464186</td><td>81.24420606571123</td><td>4.200529771369591</td><td>nan</td><td>0.963451087474823</td><td>0.76102215051651</td><td>44.32929033612217</td><td>2.7075866573650322</td><td>0.210108161784189</td><td>1.4782251482652264</td><td>2.357875134102537</td><td>3.405618321446236</td><td>0.7577823867785298</td><td>0.7496103292895739</td><td>0.17449382815265002</td><td>0</td><td>268.08784492662494</td><td>37.66862017947112</td></tr>\n",
       "<tr><td>2216.1306506627125</td><td>622.644068112621</td><td>2216.1306506627125</td><td>622.644068112621</td><td>2217</td><td>623</td><td>2100.75739133358</td><td>131.94017910100794</td><td>84.43860626220703</td><td>378.2472639465333</td><td>38.1281718411145</td><td>1075.215375671387</td><td>70.34715263932472</td><td>1697.1745406126975</td><td>98.49988681330447</td><td>1994.7771124207973</td><td>123.4061492772439</td><td>2193.0715285965807</td><td>148.13515839448442</td><td>2317.909635176212</td><td>173.08238390755994</td><td>81.24322666753068</td><td>nan</td><td>nan</td><td>0.9493865966796875</td><td>0.684711217880249</td><td>69.12045572120769</td><td>2.99116116676235</td><td>0.2787856703740015</td><td>1.5533189705933743</td><td>2.525036228913517</td><td>3.5470399605470235</td><td>0.5237680953274859</td><td>0.8463963105882502</td><td>0.1440243324168069</td><td>16</td><td>268.0084953448993</td><td>37.388955663212094</td></tr>\n",
       "<tr><td>1143.8834704811593</td><td>3085.3573219293603</td><td>1144.0222439677507</td><td>3085.4657077587426</td><td>1143</td><td>3086</td><td>2086.5084535479546</td><td>131.9461946933953</td><td>101.81803131103516</td><td>443.73350509643575</td><td>40.78070927824896</td><td>1175.4562253761292</td><td>73.69122554417386</td><td>1717.3272274780277</td><td>101.61457126536935</td><td>2001.9819352364539</td><td>127.51457080998478</td><td>2217.303635085523</td><td>153.41226541201888</td><td>2303.8179044619205</td><td>179.2230364096345</td><td>82.15873619701621</td><td>3.4878951829684106</td><td>nan</td><td>0.9233455657958984</td><td>0.6941643953323364</td><td>68.72288406999958</td><td>2.89010053955447</td><td>0.24820736564215173</td><td>1.4101018846103963</td><td>2.3375390584591673</td><td>3.3577485483285927</td><td>0.5306787929278773</td><td>0.8037524616190235</td><td>0.1253509307531937</td><td>0</td><td>268.15515019926863</td><td>37.65541659426324</td></tr>\n",
       "<tr><td>696.5249427919514</td><td>3964.821669338528</td><td>696.6411847021578</td><td>3964.7881129458483</td><td>697</td><td>3965</td><td>2053.483259305358</td><td>127.05794017470136</td><td>97.48277282714844</td><td>422.0961619567872</td><td>38.725951252158055</td><td>1172.8822587966922</td><td>70.57680270344935</td><td>1809.8407589709764</td><td>97.93036491027065</td><td>2054.2722975477573</td><td>121.79431164818368</td><td>2146.799294311703</td><td>145.12816019523234</td><td>2308.312478810698</td><td>169.77476779263353</td><td>83.76780725066736</td><td>3.299374379653958</td><td>nan</td><td>0.9770787954330444</td><td>0.7396312355995178</td><td>0.946416304441237</td><td>2.7565770407414285</td><td>0.2430178210226015</td><td>1.4483235796123712</td><td>2.305477742747967</td><td>3.2369485203985837</td><td>0.9545717940346665</td><td>0.5471655351075846</td><td>0.006732018326234712</td><td>0</td><td>268.21659931603625</td><td>37.75051159842251</td></tr>\n",
       "<tr><td>361.1938297525645</td><td>3665.968955547938</td><td>361.1938297525645</td><td>3665.968955547938</td><td>360</td><td>3665</td><td>2046.6269791722298</td><td>129.80554686040014</td><td>90.0200424194336</td><td>397.3338801574709</td><td>38.494177854166644</td><td>1180.1097248840333</td><td>71.22895482800442</td><td>1762.1917497873305</td><td>98.71118273970194</td><td>2017.7895868158341</td><td>122.89842315243074</td><td>2166.9494360220433</td><td>147.1965302524433</td><td>2212.3180546063195</td><td>171.56118666368005</td><td>85.03456925042954</td><td>nan</td><td>nan</td><td>0.9501607418060303</td><td>0.761961042881012</td><td>2.4538470583909846</td><td>2.7787354871324252</td><td>0.19807143217398704</td><td>1.4787896378211391</td><td>2.2940069838524617</td><td>3.256777870089671</td><td>0.9022148105134147</td><td>0.5811752598741556</td><td>0.013783113792390944</td><td>16</td><td>268.2623873528164</td><td>37.718068059568914</td></tr>\n",
       "<tr><td>25.45610681083257</td><td>2969.371703655628</td><td>25.606056083445356</td><td>2969.298226707632</td><td>25</td><td>2969</td><td>1872.3384446054697</td><td>125.96426705380323</td><td>98.94554901123047</td><td>403.58180923461936</td><td>38.08023456701594</td><td>1133.3724466705323</td><td>69.47601578372424</td><td>1630.4032182174924</td><td>95.37799473524551</td><td>1810.888150301576</td><td>118.48860204924684</td><td>2003.1526928538085</td><td>142.71702923063103</td><td>2020.7961595699192</td><td>166.35147246037076</td><td>81.83400080692826</td><td>3.9651406902624577</td><td>nan</td><td>0.9753997921943665</td><td>0.8301231861114502</td><td>-16.802801528081215</td><td>2.6424878699550947</td><td>0.14894057518311143</td><td>1.4117182393464052</td><td>2.1604796139428615</td><td>3.0788155196313864</td><td>0.9294852546844825</td><td>0.7110239818651862</td><td>-0.07258806106083604</td><td>0</td><td>268.3080086743168</td><td>37.642554434616294</td></tr>\n",
       "<tr><td>100.72453212660919</td><td>2530.4645845347018</td><td>100.62340102778371</td><td>2530.279372088534</td><td>100</td><td>2531</td><td>1850.3402525748825</td><td>126.30958009390473</td><td>103.78165435791016</td><td>381.14795150756856</td><td>37.49178061574316</td><td>1106.4699609303475</td><td>69.58749824794249</td><td>1609.2498516315222</td><td>95.62768089906795</td><td>1869.7502207456669</td><td>119.84671336243599</td><td>1933.8904252256964</td><td>143.31893100888118</td><td>2068.722650425634</td><td>167.92188804589563</td><td>83.3411751693525</td><td>3.406958693909453</td><td>3.972308883725564</td><td>0.9174790978431702</td><td>0.7750217318534851</td><td>26.539299369184214</td><td>2.805188449722821</td><td>0.15527042122766277</td><td>1.4279154431476961</td><td>2.192754561099388</td><td>3.2171071722869877</td><td>0.7936326765611308</td><td>0.6487938637498813</td><td>0.09637859811026983</td><td>0</td><td>268.2975255466724</td><td>37.595073413599614</td></tr>\n",
       "</table></div>"
      ],
      "text/plain": [
       "<Table length=880>\n",
       "        x                  y          ...         ra                dec        \n",
       "     float64            float64       ...      float64            float64      \n",
       "------------------ ------------------ ... ------------------ ------------------\n",
       " 1134.110366359961  948.7808473906415 ...  268.1559803381671 37.424146569919806\n",
       " 530.9940541691283 2407.9968580251225 ...  268.2387030209758  37.58195363524186\n",
       "3222.5457957976096  898.0882844919804 ... 267.87133878962936  37.41870905575009\n",
       "3631.5033238408414 2557.9862636776124 ... 267.81517494959814  37.59830967200156\n",
       "129.95706504218282  52.45419110187473 ... 268.29245434013444 37.326860776540016\n",
       " 569.3061886823797 2678.6956027150222 ... 268.23356469387824  37.61126533653218\n",
       " 421.2864980247307  3655.668197441031 ... 268.25416064241233  37.71697150276957\n",
       "1509.4907749439608  2321.385977645804 ... 268.10503941242905  37.57278016999281\n",
       "1437.4916555260854  3611.702233315789 ...  268.1151010014683  37.71243733154489\n",
       "               ...                ... ...                ...                ...\n",
       " 2147.989341102518 1360.4416796269547 ...  268.0178049471223  37.46881509105956\n",
       "2432.6598344037243  2968.112447222799 ...  267.9789485794732  37.64283557589066\n",
       "2102.2220891903435 2838.5605884484507 ...  268.0241131963812  37.62880936123535\n",
       "1636.2850777260924  3206.665440647545 ... 268.08784492662494  37.66862017947112\n",
       "2216.1306506627125   622.644068112621 ...  268.0084953448993 37.388955663212094\n",
       "1143.8834704811593 3085.3573219293603 ... 268.15515019926863  37.65541659426324\n",
       " 696.5249427919514  3964.821669338528 ... 268.21659931603625  37.75051159842251\n",
       " 361.1938297525645  3665.968955547938 ...  268.2623873528164 37.718068059568914\n",
       " 25.45610681083257  2969.371703655628 ...  268.3080086743168 37.642554434616294\n",
       "100.72453212660919 2530.4645845347018 ...  268.2975255466724 37.595073413599614"
      ]
     },
     "execution_count": 10,
     "metadata": {},
     "output_type": "execute_result"
    }
   ],
   "source": [
    "from astropy.table import Table\n",
    "\n",
    "fits1_data = Table(fits1_table)\n",
    "fits1_data"
   ]
  },
  {
   "cell_type": "code",
   "execution_count": 11,
   "metadata": {},
   "outputs": [
    {
     "data": {
      "text/plain": [
       "<Time object: scale='utc' format='isot' value=2023-04-25T07:07:29.310>"
      ]
     },
     "execution_count": 11,
     "metadata": {},
     "output_type": "execute_result"
    }
   ],
   "source": [
    "from astropy.time import Time\n",
    "datetimeobs1 = Time(files[0][1].header['DATE-OBS'], scale='utc')\n",
    "datetimeobs1\n"
   ]
  },
  {
   "cell_type": "code",
   "execution_count": 12,
   "metadata": {},
   "outputs": [
    {
     "data": {
      "text/plain": [
       "<Time object: scale='utc' format='isot' value=2023-04-25T07:08:40.406>"
      ]
     },
     "execution_count": 12,
     "metadata": {},
     "output_type": "execute_result"
    }
   ],
   "source": [
    "datetimeobs2 = Time(files[1][1].header['DATE-OBS'], scale='utc')\n",
    "datetimeobs2"
   ]
  },
  {
   "cell_type": "code",
   "execution_count": 17,
   "metadata": {},
   "outputs": [
    {
     "name": "stdout",
     "output_type": "stream",
     "text": [
      "3228214.3096313477\n"
     ]
    }
   ],
   "source": [
    "max_value_flux = fits1_data['flux'].max()\n",
    "print(max_value_flux)\n"
   ]
  },
  {
   "cell_type": "code",
   "execution_count": 14,
   "metadata": {},
   "outputs": [
    {
     "data": {
      "text/plain": [
       "Index(['x', 'y', 'xwin', 'ywin', 'xpeak', 'ypeak', 'flux', 'fluxerr', 'peak',\n",
       "       'fluxaper1', 'fluxerr1', 'fluxaper2', 'fluxerr2', 'fluxaper3',\n",
       "       'fluxerr3', 'fluxaper4', 'fluxerr4', 'fluxaper5', 'fluxerr5',\n",
       "       'fluxaper6', 'fluxerr6', 'background', 'fwhm', 'fwtm', 'a', 'b',\n",
       "       'theta', 'kronrad', 'ellipticity', 'fluxrad25', 'fluxrad50',\n",
       "       'fluxrad75', 'x2', 'y2', 'xy', 'flag', 'ra', 'dec'],\n",
       "      dtype='object')"
      ]
     },
     "execution_count": 14,
     "metadata": {},
     "output_type": "execute_result"
    }
   ],
   "source": [
    "\n",
    "import pandas as pd\n",
    "\n",
    "pd_table = fits1_data.to_pandas()\n",
    "pd_table.columns"
   ]
  },
  {
   "cell_type": "code",
   "execution_count": 18,
   "metadata": {},
   "outputs": [],
   "source": [
    "time_of_obs = []\n",
    "max_value_fluxx= []\n",
    "for file in files :\n",
    "    time_of_obs.append(Time(file[1].header['DATE-OBS'], scale='utc'))\n",
    "    max_value_fluxx.append(max(file[2].data['flux']))"
   ]
  },
  {
   "cell_type": "code",
   "execution_count": 19,
   "metadata": {},
   "outputs": [
    {
     "name": "stdout",
     "output_type": "stream",
     "text": [
      "2023-04-25T07:07:29.310\n",
      "2023-04-25T07:08:40.406\n",
      "2023-04-25T07:09:52.022\n",
      "2023-04-25T07:11:02.910\n",
      "2023-04-25T07:12:14.058\n",
      "2023-04-25T07:13:27.950\n",
      "2023-04-25T07:14:39.590\n",
      "2023-04-25T07:15:50.630\n",
      "2023-04-25T07:17:01.930\n",
      "2023-04-25T07:18:13.098\n",
      "2023-04-25T07:19:24.398\n",
      "2023-04-25T07:20:35.603\n",
      "2023-04-25T07:21:46.523\n",
      "2023-04-25T07:22:57.755\n",
      "2023-04-25T07:24:09.659\n",
      "2023-04-25T07:25:21.215\n",
      "2023-04-25T07:26:32.567\n",
      "2023-04-25T07:27:43.451\n",
      "2023-04-25T07:28:54.591\n",
      "2023-04-25T07:30:05.955\n",
      "2023-04-25T07:31:17.803\n",
      "2023-04-25T07:32:28.951\n",
      "2023-04-25T07:33:40.491\n",
      "2023-04-25T07:34:51.411\n",
      "2023-04-25T07:36:02.831\n",
      "2023-04-25T07:37:14.051\n",
      "2023-04-25T07:38:25.359\n",
      "2023-04-25T07:39:36.587\n",
      "2023-04-25T07:40:47.775\n",
      "2023-04-25T07:41:58.731\n",
      "2023-04-25T07:43:10.179\n",
      "2023-04-25T07:44:21.595\n",
      "2023-04-25T07:45:33.883\n",
      "2023-04-25T07:46:45.539\n",
      "2023-04-25T07:47:56.695\n",
      "2023-04-25T07:49:07.943\n",
      "2023-04-25T07:50:19.203\n",
      "2023-04-25T07:51:30.399\n",
      "2023-04-25T07:52:41.475\n",
      "2023-04-25T07:53:53.431\n",
      "2023-04-25T07:55:04.643\n",
      "2023-04-25T07:56:16.763\n",
      "2023-04-25T07:57:28.087\n",
      "2023-04-25T07:58:39.284\n",
      "2023-04-25T07:59:50.440\n",
      "2023-04-25T08:01:01.388\n",
      "2023-04-25T08:02:12.784\n",
      "2023-04-25T08:03:23.988\n",
      "2023-04-25T08:04:35.156\n",
      "2023-04-25T08:05:46.524\n",
      "2023-04-25T08:06:58.132\n",
      "2023-04-25T08:08:09.848\n",
      "2023-04-25T08:09:21.132\n",
      "2023-04-25T08:10:32.408\n",
      "2023-04-25T08:11:43.672\n",
      "2023-04-25T08:12:55.772\n",
      "2023-04-25T08:14:07.156\n",
      "2023-04-25T08:15:18.368\n",
      "2023-04-25T08:16:29.844\n",
      "2023-04-25T08:17:40.944\n",
      "2023-04-25T08:18:52.412\n",
      "2023-04-25T08:20:03.448\n",
      "2023-04-25T08:21:14.388\n",
      "2023-04-25T08:22:25.684\n",
      "2023-04-25T08:23:36.988\n",
      "2023-04-25T08:24:48.404\n",
      "2023-04-25T08:25:59.708\n",
      "2023-04-25T08:27:11.040\n",
      "2023-04-25T08:28:22.068\n",
      "2023-04-25T08:29:33.324\n",
      "2023-04-25T08:30:44.544\n",
      "2023-04-25T08:31:55.716\n",
      "2023-04-25T08:33:06.964\n",
      "2023-04-25T08:34:18.188\n",
      "2023-04-25T08:35:30.144\n",
      "2023-04-25T08:36:41.544\n",
      "2023-04-25T08:37:52.697\n",
      "2023-04-25T08:39:03.789\n",
      "2023-04-25T08:40:14.797\n",
      "2023-04-25T08:41:26.125\n"
     ]
    }
   ],
   "source": [
    "for i in time_of_obs :\n",
    "    print(i)"
   ]
  },
  {
   "cell_type": "code",
   "execution_count": 20,
   "metadata": {},
   "outputs": [
    {
     "name": "stdout",
     "output_type": "stream",
     "text": [
      "3228214.3096313477\n",
      "3379672.2822875977\n",
      "3217966.559814453\n",
      "3227413.696533203\n",
      "3248548.132019043\n",
      "3244230.8864746094\n",
      "7008701.031276703\n",
      "3243709.4088134766\n",
      "3244436.331665039\n",
      "3263180.7661132812\n",
      "3267377.8380737305\n",
      "3272337.698852539\n",
      "3772847.7971191406\n",
      "3290241.6887817383\n",
      "7115163.148803711\n",
      "3299565.184448242\n",
      "3300615.59765625\n",
      "8677431.868896484\n",
      "3329252.5161132812\n",
      "3318654.4119262695\n",
      "3319746.312866211\n",
      "3329464.391357422\n",
      "3322019.235961914\n",
      "8060068.569458008\n",
      "7226883.895347595\n",
      "7239966.431655884\n",
      "3351301.80078125\n",
      "3357610.4877929688\n",
      "3353991.7864990234\n",
      "11373927.338653564\n",
      "3363613.0720214844\n",
      "3374279.5573120117\n",
      "3383046.4434814453\n",
      "3370910.679260254\n",
      "3468473.3595083444\n",
      "3386816.6126708984\n",
      "3409417.9450683594\n",
      "3402468.666442871\n",
      "7233404.733947754\n",
      "7736445.026184082\n",
      "3414383.0759277344\n",
      "3415394.821472168\n",
      "3427378.787536621\n",
      "3432846.1427612305\n",
      "3428270.927001953\n",
      "3434781.489929199\n",
      "3438807.964477539\n",
      "3451369.5516967773\n",
      "3753521.3191833496\n",
      "6838639.253242493\n",
      "3459997.455932617\n",
      "3479873.4139948003\n",
      "3590198.979114865\n",
      "3660160.410487912\n",
      "3535274.711956379\n",
      "3682280.496734619\n",
      "3451586.2556152344\n",
      "3559982.6444629896\n",
      "3465499.5482788086\n",
      "3459499.674621582\n",
      "3457017.790588379\n",
      "3470796.37109375\n",
      "3457378.5173950195\n",
      "3470039.185119629\n",
      "3474744.8040771484\n",
      "3482540.1431884766\n",
      "3476444.5497436523\n",
      "3475029.4778442383\n",
      "3490777.4013671875\n",
      "3493835.492492676\n",
      "3493474.1739501953\n",
      "3483513.2669067383\n",
      "3489515.103149414\n",
      "3493965.7869262695\n",
      "3494338.5147094727\n",
      "3497294.8959350586\n",
      "3486441.3530273438\n",
      "3727226.33539515\n",
      "7513850.479736328\n",
      "3641139.7847039504\n"
     ]
    }
   ],
   "source": [
    "for j in max_value_fluxx :\n",
    "    print(j)"
   ]
  },
  {
   "cell_type": "code",
   "execution_count": 25,
   "metadata": {},
   "outputs": [
    {
     "data": {
      "text/html": [
       "<div>\n",
       "<style scoped>\n",
       "    .dataframe tbody tr th:only-of-type {\n",
       "        vertical-align: middle;\n",
       "    }\n",
       "\n",
       "    .dataframe tbody tr th {\n",
       "        vertical-align: top;\n",
       "    }\n",
       "\n",
       "    .dataframe thead th {\n",
       "        text-align: right;\n",
       "    }\n",
       "</style>\n",
       "<table border=\"1\" class=\"dataframe\">\n",
       "  <thead>\n",
       "    <tr style=\"text-align: right;\">\n",
       "      <th></th>\n",
       "      <th>max_flux</th>\n",
       "      <th>time</th>\n",
       "    </tr>\n",
       "  </thead>\n",
       "  <tbody>\n",
       "    <tr>\n",
       "      <th>0</th>\n",
       "      <td>3.228214e+06</td>\n",
       "      <td>2023-04-25T07:07:29.310</td>\n",
       "    </tr>\n",
       "    <tr>\n",
       "      <th>1</th>\n",
       "      <td>3.379672e+06</td>\n",
       "      <td>2023-04-25T07:08:40.406</td>\n",
       "    </tr>\n",
       "    <tr>\n",
       "      <th>2</th>\n",
       "      <td>3.217967e+06</td>\n",
       "      <td>2023-04-25T07:09:52.022</td>\n",
       "    </tr>\n",
       "    <tr>\n",
       "      <th>3</th>\n",
       "      <td>3.227414e+06</td>\n",
       "      <td>2023-04-25T07:11:02.910</td>\n",
       "    </tr>\n",
       "    <tr>\n",
       "      <th>4</th>\n",
       "      <td>3.248548e+06</td>\n",
       "      <td>2023-04-25T07:12:14.058</td>\n",
       "    </tr>\n",
       "    <tr>\n",
       "      <th>...</th>\n",
       "      <td>...</td>\n",
       "      <td>...</td>\n",
       "    </tr>\n",
       "    <tr>\n",
       "      <th>75</th>\n",
       "      <td>3.497295e+06</td>\n",
       "      <td>2023-04-25T08:36:41.544</td>\n",
       "    </tr>\n",
       "    <tr>\n",
       "      <th>76</th>\n",
       "      <td>3.486441e+06</td>\n",
       "      <td>2023-04-25T08:37:52.697</td>\n",
       "    </tr>\n",
       "    <tr>\n",
       "      <th>77</th>\n",
       "      <td>3.727226e+06</td>\n",
       "      <td>2023-04-25T08:39:03.789</td>\n",
       "    </tr>\n",
       "    <tr>\n",
       "      <th>78</th>\n",
       "      <td>7.513850e+06</td>\n",
       "      <td>2023-04-25T08:40:14.797</td>\n",
       "    </tr>\n",
       "    <tr>\n",
       "      <th>79</th>\n",
       "      <td>3.641140e+06</td>\n",
       "      <td>2023-04-25T08:41:26.125</td>\n",
       "    </tr>\n",
       "  </tbody>\n",
       "</table>\n",
       "<p>80 rows × 2 columns</p>\n",
       "</div>"
      ],
      "text/plain": [
       "        max_flux                     time\n",
       "0   3.228214e+06  2023-04-25T07:07:29.310\n",
       "1   3.379672e+06  2023-04-25T07:08:40.406\n",
       "2   3.217967e+06  2023-04-25T07:09:52.022\n",
       "3   3.227414e+06  2023-04-25T07:11:02.910\n",
       "4   3.248548e+06  2023-04-25T07:12:14.058\n",
       "..           ...                      ...\n",
       "75  3.497295e+06  2023-04-25T08:36:41.544\n",
       "76  3.486441e+06  2023-04-25T08:37:52.697\n",
       "77  3.727226e+06  2023-04-25T08:39:03.789\n",
       "78  7.513850e+06  2023-04-25T08:40:14.797\n",
       "79  3.641140e+06  2023-04-25T08:41:26.125\n",
       "\n",
       "[80 rows x 2 columns]"
      ]
     },
     "execution_count": 25,
     "metadata": {},
     "output_type": "execute_result"
    }
   ],
   "source": [
    "data_obs = {'max_flux' : max_value_fluxx  ,'time' : time_of_obs}\n",
    "data_obs_df = pd.DataFrame(data_obs)\n",
    "data_obs_df"
   ]
  },
  {
   "cell_type": "code",
   "execution_count": 32,
   "metadata": {},
   "outputs": [
    {
     "data": {
      "image/png": "[encoded data removed]",
      "text/plain": [
       "<Figure size 640x480 with 1 Axes>"
      ]
     },
     "metadata": {},
     "output_type": "display_data"
    }
   ],
   "source": [
    "data_obs_df.plot(y='max_flux', kind='line')\n",
    "plt.show()"
   ]
  },
  {
   "cell_type": "code",
   "execution_count": 35,
   "metadata": {},
   "outputs": [
    {
     "data": {
      "text/html": [
       "<div>\n",
       "<style scoped>\n",
       "    .dataframe tbody tr th:only-of-type {\n",
       "        vertical-align: middle;\n",
       "    }\n",
       "\n",
       "    .dataframe tbody tr th {\n",
       "        vertical-align: top;\n",
       "    }\n",
       "\n",
       "    .dataframe thead th {\n",
       "        text-align: right;\n",
       "    }\n",
       "</style>\n",
       "<table border=\"1\" class=\"dataframe\">\n",
       "  <thead>\n",
       "    <tr style=\"text-align: right;\">\n",
       "      <th></th>\n",
       "      <th>main_id</th>\n",
       "      <th>ra</th>\n",
       "      <th>dec</th>\n",
       "      <th>coo_err_maj</th>\n",
       "      <th>coo_err_min</th>\n",
       "      <th>coo_err_angle</th>\n",
       "      <th>coo_wavelength</th>\n",
       "      <th>coo_bibcode</th>\n",
       "      <th>matched_id</th>\n",
       "    </tr>\n",
       "  </thead>\n",
       "  <tbody>\n",
       "    <tr>\n",
       "      <th>0</th>\n",
       "      <td>TrES-3</td>\n",
       "      <td>268.029243</td>\n",
       "      <td>37.546177</td>\n",
       "      <td>0.0073</td>\n",
       "      <td>0.0087</td>\n",
       "      <td>90</td>\n",
       "      <td>O</td>\n",
       "      <td>2020yCat.1350....0G</td>\n",
       "      <td>HIDDEN NAME TrES-3b</td>\n",
       "    </tr>\n",
       "  </tbody>\n",
       "</table>\n",
       "</div>"
      ],
      "text/plain": [
       "  main_id          ra        dec  coo_err_maj  coo_err_min  coo_err_angle  \\\n",
       "0  TrES-3  268.029243  37.546177       0.0073       0.0087             90   \n",
       "\n",
       "  coo_wavelength          coo_bibcode           matched_id  \n",
       "0              O  2020yCat.1350....0G  HIDDEN NAME TrES-3b  "
      ]
     },
     "execution_count": 35,
     "metadata": {},
     "output_type": "execute_result"
    }
   ],
   "source": [
    "from astroquery.simbad import Simbad\n",
    "\n",
    "target_name = 'TrES-3b'\n",
    "target = Simbad.query_object(target_name)\n",
    "\n",
    "target_df = pd.DataFrame(target.columns)\n",
    "target_df"
   ]
  },
  {
   "cell_type": "code",
   "execution_count": 37,
   "metadata": {},
   "outputs": [
    {
     "name": "stdout",
     "output_type": "stream",
     "text": [
      "RA (deg): 268.0292433333333\n",
      "Dec (deg): 37.54617705555555\n"
     ]
    }
   ],
   "source": [
    "from astropy.coordinates import SkyCoord\n",
    "import astropy.units as u\n",
    "\n",
    "coords = SkyCoord(\"17h52m07.0184s +37d32m46.2374s\", frame=\"icrs\")\n",
    " \n",
    "RA = coords.ra.deg\n",
    "DEC = coords.dec.deg\n",
    "print(f\"RA (deg): {RA}\")\n",
    "print(f\"Dec (deg): {DEC}\")"
   ]
  },
  {
   "cell_type": "code",
   "execution_count": 42,
   "metadata": {},
   "outputs": [
    {
     "name": "stdout",
     "output_type": "stream",
     "text": [
      "                      main_id          ra        dec  coo_err_maj  \\\n",
      "0     2MASS J17520839+3732378  268.034965  37.543839       0.0591   \n",
      "1                      TrES-3  268.029243  37.546177       0.0073   \n",
      "2  1SWASP J175207.01+373246.3  268.029243  37.546177       0.0073   \n",
      "\n",
      "   coo_err_min  coo_err_angle coo_wavelength          coo_bibcode  \n",
      "0       0.0710             90              O  2020yCat.1350....0G  \n",
      "1       0.0087             90              O  2020yCat.1350....0G  \n",
      "2       0.0087             90              O  2020yCat.1350....0G  \n"
     ]
    }
   ],
   "source": [
    "target_host_star_coord = SkyCoord(ra=RA ,dec=DEC ,unit=(u.deg, u.deg))\n",
    "\n",
    "target_results = Simbad.query_region(target_host_star_coord, radius ='1m')\n",
    "\n",
    "if target_host_star is not None:\n",
    "    print(pd.DataFrame(target_results.columns))"
   ]
  },
  {
   "cell_type": "markdown",
   "metadata": {},
   "source": []
  },
  {
   "cell_type": "code",
   "execution_count": 44,
   "metadata": {},
   "outputs": [
    {
     "name": "stdout",
     "output_type": "stream",
     "text": [
      "         main_id                  ra            dec      coo_err_maj coo_err_min coo_err_angle coo_wavelength     coo_bibcode    \n",
      "                                 deg            deg          mas         mas          deg                                        \n",
      "-------------------------- --------------- ------------- ----------- ----------- ------------- -------------- -------------------\n",
      "1SWASP J175207.01+373246.3 268.02924344157 37.5461770494      0.0073      0.0087            90              O 2020yCat.1350....0G\n"
     ]
    }
   ],
   "source": [
    "target_host_star = target_results[2]\n",
    "print(target_host_star)"
   ]
  },
  {
   "cell_type": "code",
   "execution_count": 49,
   "metadata": {},
   "outputs": [
    {
     "name": "stderr",
     "output_type": "stream",
     "text": [
      "WARNING: FITSFixedWarning: 'obsfix' made the change 'Set OBSGEO-L to  -104.015173 from OBSGEO-[XYZ].\n",
      "Set OBSGEO-B to    30.679833 from OBSGEO-[XYZ].\n",
      "Set OBSGEO-H to     2026.994 from OBSGEO-[XYZ]'. [astropy.wcs.wcs]\n"
     ]
    },
    {
     "ename": "ValueError",
     "evalue": "The truth value of an array with more than one element is ambiguous. Use a.any() or a.all()",
     "output_type": "error",
     "traceback": [
      "\u001b[1;31m---------------------------------------------------------------------------\u001b[0m",
      "\u001b[1;31mValueError\u001b[0m                                Traceback (most recent call last)",
      "Cell \u001b[1;32mIn[49], line 13\u001b[0m\n\u001b[0;32m     11\u001b[0m     RA_fits_deg \u001b[38;5;241m=\u001b[39m ra_dec\u001b[38;5;241m.\u001b[39mra\u001b[38;5;241m.\u001b[39mdeg\n\u001b[0;32m     12\u001b[0m     DEC_fits_deg \u001b[38;5;241m=\u001b[39m ra_dec\u001b[38;5;241m.\u001b[39mdec\u001b[38;5;241m.\u001b[39mdeg\n\u001b[1;32m---> 13\u001b[0m     \u001b[38;5;28;01mif\u001b[39;00m RA \u001b[38;5;241m==\u001b[39m RA_fits_deg \u001b[38;5;129;01mand\u001b[39;00m DEC \u001b[38;5;241m==\u001b[39m DEC_fits_deg :\n\u001b[0;32m     14\u001b[0m         flux_obsr_hots_star\u001b[38;5;241m.\u001b[39mappend(fits1_table[\u001b[38;5;124m'\u001b[39m\u001b[38;5;124mflux\u001b[39m\u001b[38;5;124m'\u001b[39m])\n\u001b[0;32m     16\u001b[0m \u001b[38;5;28;01mfor\u001b[39;00m i \u001b[38;5;129;01min\u001b[39;00m flux_obsr_hots_star :\n",
      "\u001b[1;31mValueError\u001b[0m: The truth value of an array with more than one element is ambiguous. Use a.any() or a.all()"
     ]
    }
   ],
   "source": [
    "from astropy.wcs import WCS\n",
    "\n",
    "flux_obsr_hots_star = []\n",
    "for file in files :\n",
    "    wcs = WCS(file[1].header)\n",
    "    fits_table = Table(file[2].data) \n",
    "    x_coord_pixel = fits_table['x']\n",
    "    y_coord_pixel = fits_table['y']\n",
    "    \n",
    "    ra_dec = wcs.pixel_to_world(x_coord_pixel, y_coord_pixel)\n",
    "    RA_fits_deg = ra_dec.ra.deg\n",
    "    DEC_fits_deg = ra_dec.dec.deg\n",
    "    if RA == RA_fits_deg and DEC == DEC_fits_deg :\n",
    "        flux_obsr_hots_star.append(fits1_table['flux'])\n",
    "    \n",
    "for i in flux_obsr_hots_star :\n",
    "    print(i)\n",
    "\n",
    "\n"
   ]
  },
  {
   "cell_type": "code",
   "execution_count": null,
   "metadata": {},
   "outputs": [],
   "source": []
  }
 ],
 "metadata": {
  "kernelspec": {
   "display_name": "Python 3",
   "language": "python",
   "name": "python3"
  },
  "language_info": {
   "codemirror_mode": {
    "name": "ipython",
    "version": 3
   },
   "file_extension": ".py",
   "mimetype": "text/x-python",
   "name": "python",
   "nbconvert_exporter": "python",
   "pygments_lexer": "ipython3",
   "version": "3.11.1"
  }
 },
 "nbformat": 4,
 "nbformat_minor": 2
}
